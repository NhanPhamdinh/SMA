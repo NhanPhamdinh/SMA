{
 "cells": [
  {
   "cell_type": "code",
   "execution_count": 1,
   "metadata": {},
   "outputs": [],
   "source": [
    "import sys\n",
    "sys.path.append(r\"C:\\Users\\nhan.pham\\OneDrive - Orient Software Development Corporation\\Desktop\\Projects\\ScrapeData\")\n",
    "from Scraper.get_url import *\n",
    "from Scraper.get_comment import *"
   ]
  },
  {
   "cell_type": "code",
   "execution_count": 8,
   "metadata": {},
   "outputs": [
    {
     "name": "stdout",
     "output_type": "stream",
     "text": [
      "MWC22 - YouTube\n"
     ]
    }
   ],
   "source": [
    "#Crawl data from vnexpress\n",
    "\n",
    "import pandas as pd\n",
    "\n",
    "#Get name of the webpage\n",
    "url = \"https://www.youtube.com/playlist?list=PLtw_th4Btr65BlBTz5NAxuhvGzoclKO9u\"\n",
    "headers = {'User-Agent': 'Mozilla/5.0 (Windows NT 10.0; Win64; x64) AppleWebKit/537.36 (KHTML, like Gecko) Chrome/103.0.0.0 Safari/537.36'}\n",
    "response = requests.get(url, headers = headers)\n",
    "soup = BeautifulSoup(response.content,'html.parser')\n",
    "for title in soup.find_all('title'):\n",
    "    title = title.get_text()"
   ]
  },
  {
   "cell_type": "code",
   "execution_count": null,
   "metadata": {},
   "outputs": [],
   "source": [
    "#Crawl data from vnexpress\n",
    "urls = vnexpress(webpage_url) #Get a list of urls of articles\n",
    "data = get_website_comment(urls) #Crawl data from website\n",
    "data.to_excel(webpage_title + \".xlsx\")"
   ]
  }
 ],
 "metadata": {
  "kernelspec": {
   "display_name": "Python 3.9.12 ('GrammarChecker1')",
   "language": "python",
   "name": "python3"
  },
  "language_info": {
   "codemirror_mode": {
    "name": "ipython",
    "version": 3
   },
   "file_extension": ".py",
   "mimetype": "text/x-python",
   "name": "python",
   "nbconvert_exporter": "python",
   "pygments_lexer": "ipython3",
   "version": "3.9.12"
  },
  "orig_nbformat": 4,
  "vscode": {
   "interpreter": {
    "hash": "645933692c74a5a1c8e8024f38d426065da826aa2dae5e318000ea6c1e8b8288"
   }
  }
 },
 "nbformat": 4,
 "nbformat_minor": 2
}
