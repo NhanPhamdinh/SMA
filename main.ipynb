{
 "cells": [
  {
   "cell_type": "code",
   "execution_count": null,
   "metadata": {},
   "outputs": [],
   "source": [
    "#Always run this cell\n",
    "from Scraper.get_url import *\n",
    "from Scraper.get_comment import *\n",
    "from Notifier.store_data_to_db import store_data_to_db\n",
    "\n",
    "#social_media_site_list = ['Appstore','Playstore','Reddit','News','Youtube','Website']"
   ]
  },
  {
   "cell_type": "code",
   "execution_count": null,
   "metadata": {},
   "outputs": [],
   "source": [
    "#Appstore\n",
    "url = \"https://apps.apple.com/vn/app/facebook/id284882215?l=vi\"\n",
    "max_count = 100\n",
    "lookup_period = '5Y'\n",
    "\n",
    "data = store_data_to_db(name = 'Appstore', url = url, max_count = max_count, lookup_period = lookup_period).get_data()\n",
    "store_data_to_db.store_to_db(data)"
   ]
  },
  {
   "cell_type": "code",
   "execution_count": null,
   "metadata": {},
   "outputs": [],
   "source": [
    "#Playstore\n",
    "url = \"https://play.google.com/store/apps/details?id=com.facebook.katana&hl=en&gl=US\"\n",
    "max_count = 100\n",
    "lookup_period = '5Y'\n",
    "\n",
    "data = store_data_to_db(name = 'Playstore', url = url, max_count = max_count, lookup_period = lookup_period).get_data()\n",
    "store_data_to_db.store_to_db(data)"
   ]
  },
  {
   "cell_type": "code",
   "execution_count": null,
   "metadata": {},
   "outputs": [],
   "source": [
    "#Youtube\n",
    "url = \"https://www.youtube.com/watch?v=bma1l2OXoy0&list=PLtw_th4Btr64UeQYj_EVb8s3g8RRgousz&index=1\"\n",
    "max_count = 100\n",
    "lookup_period = '5Y'\n",
    "\n",
    "data = store_data_to_db(name = 'Youtube', url = url, max_count = max_count, lookup_period = lookup_period).get_data()\n",
    "store_data_to_db.store_to_db(data)"
   ]
  },
  {
   "cell_type": "code",
   "execution_count": null,
   "metadata": {},
   "outputs": [],
   "source": [
    "#Website\n",
    "webpage_list = ['tinhte','genk','vietnamnet','24h','tuoitre','vnexpress']\n",
    "webpage_name = webpage_list[0]\n",
    "url = \"https://tinhte.vn/search/450296279/?q=review+s%E1%BA%A1c+d%E1%BB%B1+ph%C3%B2ng&o=relevance\"\n",
    "\n",
    "data = store_data_to_db(name = \"Website\", webpage_name = webpage_name, url = url).get_data()\n",
    "store_data_to_db.store_to_db(data)"
   ]
  }
 ],
 "metadata": {
  "kernelspec": {
   "display_name": "Python 3.9.12 ('SMA')",
   "language": "python",
   "name": "python3"
  },
  "language_info": {
   "codemirror_mode": {
    "name": "ipython",
    "version": 3
   },
   "file_extension": ".py",
   "mimetype": "text/x-python",
   "name": "python",
   "nbconvert_exporter": "python",
   "pygments_lexer": "ipython3",
   "version": "3.9.12"
  },
  "orig_nbformat": 4,
  "vscode": {
   "interpreter": {
    "hash": "c1783c6dc0c7f24c63d6a4ec6a99544c540e31a3f6cbc14f4ebe7323b0919f29"
   }
  }
 },
 "nbformat": 4,
 "nbformat_minor": 2
}
